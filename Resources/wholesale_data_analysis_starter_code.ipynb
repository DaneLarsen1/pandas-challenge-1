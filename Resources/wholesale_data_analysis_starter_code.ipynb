{
 "cells": [
  {
   "cell_type": "markdown",
   "id": "dc0318d6",
   "metadata": {},
   "source": [
    "## Part 1: Explore the Data\n",
    "\n",
    "Import the data and use Pandas to learn more about the dataset."
   ]
  },
  {
   "cell_type": "code",
   "execution_count": null,
   "id": "e076f57f",
   "metadata": {},
   "outputs": [],
   "source": [
    "import pandas as pd\n",
    "\n",
    "df = pd.read_csv('../Resources/client_dataset.csv')\n",
    "df.head()"
   ]
  },
  {
   "cell_type": "code",
   "execution_count": null,
   "id": "71b9bbd2",
   "metadata": {},
   "outputs": [],
   "source": [
    "# View the column names in the data\n",
    "print(df.columns)"
   ]
  },
  {
   "cell_type": "code",
   "execution_count": null,
   "id": "bc0f4172",
   "metadata": {},
   "outputs": [],
   "source": [
    "# Use the describe function to gather some basic statistics\n",
    "print(df.describe())"
   ]
  },
  {
   "cell_type": "code",
   "execution_count": null,
   "id": "b24b53cc",
   "metadata": {},
   "outputs": [],
   "source": [
    "# Use this space to do any additional research\n",
    "# and familiarize yourself with the data.\n",
    "print(df.head())\n",
    "\n",
    "missing_values = df.isnull().sum()\n",
    "print(\"Missing Values:\\n\", missing_values)\n",
    "\n",
    "print(\"Data Types:\\n\", df.dtypes)\n",
    "\n",
    "unique_categories = df['category'].unique()\n",
    "print(\"Unique Categories:\\n\", unique_categories)\n",
    "\n",
    "unique_subcategories = df['subcategory'].unique()\n",
    "print(\"Unique Subcategories:\\n\", unique_subcategories)\n",
    "\n",
    "total_entries = len(df)\n",
    "print(\"Total Number of Entries:\", total_entries)\n",
    "\n",
    "category_counts = df['category'].value_counts()\n",
    "print(\"Category Counts:\\n\", category_counts)"
   ]
  },
  {
   "cell_type": "code",
   "execution_count": null,
   "id": "551cb358",
   "metadata": {},
   "outputs": [],
   "source": [
    "# What three item categories had the most entries?\n",
    "top_categories = df['category'].value_counts().head(3)\n",
    "print(\"Top 3 Item Categories:\\n\", top_categories)"
   ]
  },
  {
   "cell_type": "code",
   "execution_count": null,
   "id": "5f54e2cf",
   "metadata": {},
   "outputs": [],
   "source": [
    "# For the category with the most entries, which subcategory had the most entries?\n",
    "most_entries_category = df['category'].value_counts().idxmax()\n",
    "\n",
    "subcategory_count = df[df['category'] == most_entries_category]['subcategory'].value_counts()\n",
    "\n",
    "top_subcategory = subcategory_count.idxmax()\n",
    "print(\"Top Subcategory in the Most Frequent Category:\\n\", top_subcategory)"
   ]
  },
  {
   "cell_type": "code",
   "execution_count": null,
   "id": "2db94379",
   "metadata": {},
   "outputs": [],
   "source": [
    "# Which five clients had the most entries in the data?\n",
    "top_clients = df['client_id'].value_counts().head(5)\n",
    "print(\"Top 5 Clients with Most Entries:\\n\", top_clients)"
   ]
  },
  {
   "cell_type": "code",
   "execution_count": null,
   "id": "a6635601",
   "metadata": {},
   "outputs": [],
   "source": [
    "# Store the client ids of those top 5 clients in a list.\n",
    "top_client_ids = top_clients.index.tolist()\n",
    "print(\"Top 5 Client IDs:\\n\", top_client_ids)"
   ]
  },
  {
   "cell_type": "code",
   "execution_count": null,
   "id": "c88b8a3e",
   "metadata": {},
   "outputs": [],
   "source": [
    "# How many total units (the qty column) did the client with the most entries order order?\n",
    "total_units = df[df['client_id'] == top_client_ids[0]]['qty'].sum()\n",
    "print(\"Total Units Ordered by the Client with Most Entries:\\n\", total_units)"
   ]
  },
  {
   "cell_type": "markdown",
   "id": "257fcd7d",
   "metadata": {},
   "source": [
    "## Part 2: Transform the Data\n",
    "Do we know that this client spent the more money than client 66037? If not, how would we find out? Transform the data using the steps below to prepare it for analysis."
   ]
  },
  {
   "cell_type": "code",
   "execution_count": null,
   "id": "0c25c4a8",
   "metadata": {},
   "outputs": [],
   "source": [
    "# Create a column that calculates the subtotal for each line using the unit_price and the qty\n",
    "df['subtotal'] = df['unit_price'] * df['qty']\n",
    "print(df.head())"
   ]
  },
  {
   "cell_type": "code",
   "execution_count": null,
   "id": "ac9dafc8",
   "metadata": {},
   "outputs": [],
   "source": [
    "# Create a column for shipping price.\n",
    "# Assume a shipping price of $7 per pound for orders over 50 pounds and $10 per pound for items 50 pounds or under.\n",
    "df['shipping_price'] = df['unit_weight'].apply(lambda x: 7 * x if x > 50 else 10 * x)"
   ]
  },
  {
   "cell_type": "code",
   "execution_count": null,
   "id": "77f42c67",
   "metadata": {},
   "outputs": [],
   "source": [
    "# Create a column for the total price using the subtotal and the shipping price along with a sales tax of 9.25%\n",
    "sales_tax = 0.0925\n",
    "df['sales_tax'] = df['subtotal'] * sales_tax\n",
    "df['total_price'] = df['subtotal'] + df['shipping_price'] + df['sales_tax']\n",
    "print(df[['subtotal', 'shipping_price', 'sales_tax', 'total_price']].head())\n"
   ]
  },
  {
   "cell_type": "code",
   "execution_count": null,
   "id": "c82ad275",
   "metadata": {},
   "outputs": [],
   "source": [
    "# Create a column for the cost of each line using unit cost, qty, and\n",
    "# shipping price (assume the shipping cost is exactly what is charged to the client).\n",
    "df['line_cost'] = (df['unit_cost'] * df['qty']) + df['shipping_price']\n",
    "print(df[['unit_cost', 'qty', 'shipping_price', 'line_cost']].head())\n",
    "# couldnt see line_cost when i loaded the usual head idk why \n"
   ]
  },
  {
   "cell_type": "code",
   "execution_count": null,
   "id": "e2389018",
   "metadata": {},
   "outputs": [],
   "source": [
    "# Create a column for the profit of each line using line cost and line price\n",
    "df['profit'] = df['total_price'] - df['line_cost']\n",
    "print(df[['total_price', 'line_cost', 'profit']].head())"
   ]
  },
  {
   "cell_type": "markdown",
   "id": "ef6f62b1",
   "metadata": {},
   "source": [
    "## Part 3: Confirm your work\n",
    "You have email receipts showing that the total prices for 3 orders. Confirm that your calculations match the receipts. Remember, each order has multiple lines.\n",
    "\n",
    "Order ID 2742071 had a total price of \\$152,811.89\n",
    "\n",
    "Order ID 2173913 had a total price of \\$162,388.71\n",
    "\n",
    "Order ID 6128929 had a total price of \\$923,441.25\n"
   ]
  },
  {
   "cell_type": "code",
   "execution_count": null,
   "id": "c0e5d68e",
   "metadata": {},
   "outputs": [],
   "source": []
  },
  {
   "cell_type": "markdown",
   "id": "b94d58ab",
   "metadata": {},
   "source": [
    "## Part 4: Summarize and Analyze\n",
    "Use the new columns with confirmed values to find the following information."
   ]
  },
  {
   "cell_type": "code",
   "execution_count": null,
   "id": "7c005f34",
   "metadata": {},
   "outputs": [],
   "source": [
    "# How much did each of the top 5 clients by quantity spend? Check your work from Part 1 for client ids.\n",
    "\n"
   ]
  },
  {
   "cell_type": "code",
   "execution_count": null,
   "id": "81b6e4d2",
   "metadata": {},
   "outputs": [],
   "source": [
    "# Create a summary DataFrame showing the totals for the for the top 5 clients with the following information:\n",
    "# total units purchased, total shipping price, total revenue, and total profit. \n"
   ]
  },
  {
   "cell_type": "code",
   "execution_count": null,
   "id": "7be02867",
   "metadata": {},
   "outputs": [],
   "source": [
    "# Format the data and rename the columns to names suitable for presentation.\n",
    "\n",
    "# Define the money columns. \n",
    "\n",
    "\n",
    "# Define a function that converts a dollar amount to millions.\n",
    "\n",
    "\n",
    "# Apply the currency_format_millions function to only the money columns. \n",
    "\n",
    "\n",
    "# Rename the columns to reflect the change in the money format. \n",
    "\n",
    "\n"
   ]
  },
  {
   "cell_type": "code",
   "execution_count": null,
   "id": "8ead0986",
   "metadata": {},
   "outputs": [],
   "source": [
    "# Sort the updated data by \"Total Profit (millions)\" form highest to lowest and assign the sort to a new DatFrame.\n"
   ]
  },
  {
   "cell_type": "code",
   "execution_count": null,
   "id": "87e0e7f8-b60e-4e50-ab07-c36b6deed513",
   "metadata": {},
   "outputs": [],
   "source": []
  }
 ],
 "metadata": {
  "kernelspec": {
   "display_name": "project-1-env",
   "language": "python",
   "name": "python3"
  },
  "language_info": {
   "codemirror_mode": {
    "name": "ipython",
    "version": 3
   },
   "file_extension": ".py",
   "mimetype": "text/x-python",
   "name": "python",
   "nbconvert_exporter": "python",
   "pygments_lexer": "ipython3",
   "version": "3.10.15"
  }
 },
 "nbformat": 4,
 "nbformat_minor": 5
}
